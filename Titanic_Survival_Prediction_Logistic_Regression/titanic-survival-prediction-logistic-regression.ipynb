{
 "cells": [
  {
   "cell_type": "markdown",
   "id": "b50d168e",
   "metadata": {
    "id": "U2dfi1cZrcUw",
    "papermill": {
     "duration": 0.029836,
     "end_time": "2022-04-04T09:12:39.191091",
     "exception": false,
     "start_time": "2022-04-04T09:12:39.161255",
     "status": "completed"
    },
    "tags": []
   },
   "source": [
    "## **IMPORT LIBRARIES**"
   ]
  },
  {
   "cell_type": "code",
   "execution_count": 1,
   "id": "0ef2d370",
   "metadata": {
    "execution": {
     "iopub.execute_input": "2022-04-04T09:12:39.252849Z",
     "iopub.status.busy": "2022-04-04T09:12:39.251710Z",
     "iopub.status.idle": "2022-04-04T09:12:40.567798Z",
     "shell.execute_reply": "2022-04-04T09:12:40.567029Z",
     "shell.execute_reply.started": "2022-03-31T06:31:18.822617Z"
    },
    "id": "3po5k5p_rcUz",
    "papermill": {
     "duration": 1.348008,
     "end_time": "2022-04-04T09:12:40.568003",
     "exception": false,
     "start_time": "2022-04-04T09:12:39.219995",
     "status": "completed"
    },
    "tags": []
   },
   "outputs": [],
   "source": [
    "import pandas as pd\n",
    "import numpy as np\n",
    "import sklearn as sk\n",
    "import seaborn as sns\n",
    "import matplotlib.pyplot as plt"
   ]
  },
  {
   "cell_type": "markdown",
   "id": "7a250b5a",
   "metadata": {
    "id": "gj8v8k1YrcU0",
    "papermill": {
     "duration": 0.027711,
     "end_time": "2022-04-04T09:12:40.625160",
     "exception": false,
     "start_time": "2022-04-04T09:12:40.597449",
     "status": "completed"
    },
    "tags": []
   },
   "source": [
    "## **READING CSV FILE**"
   ]
  },
  {
   "cell_type": "code",
   "execution_count": 2,
   "id": "88b5d44a",
   "metadata": {
    "execution": {
     "iopub.execute_input": "2022-04-04T09:12:40.685616Z",
     "iopub.status.busy": "2022-04-04T09:12:40.684915Z",
     "iopub.status.idle": "2022-04-04T09:12:40.712246Z",
     "shell.execute_reply": "2022-04-04T09:12:40.712862Z",
     "shell.execute_reply.started": "2022-03-31T06:31:20.030535Z"
    },
    "id": "aeIplOszrcU1",
    "papermill": {
     "duration": 0.058958,
     "end_time": "2022-04-04T09:12:40.713075",
     "exception": false,
     "start_time": "2022-04-04T09:12:40.654117",
     "status": "completed"
    },
    "tags": []
   },
   "outputs": [],
   "source": [
    "train=pd.read_csv(\"../input/titanic/train.csv\")\n",
    "test=pd.read_csv(\"../input/titanic/test.csv\")"
   ]
  },
  {
   "cell_type": "code",
   "execution_count": 3,
   "id": "dc40ae31",
   "metadata": {
    "execution": {
     "iopub.execute_input": "2022-04-04T09:12:40.773895Z",
     "iopub.status.busy": "2022-04-04T09:12:40.773226Z",
     "iopub.status.idle": "2022-04-04T09:12:40.780394Z",
     "shell.execute_reply": "2022-04-04T09:12:40.780921Z",
     "shell.execute_reply.started": "2022-03-31T06:31:20.059912Z"
    },
    "id": "i-ARdvSrrcU2",
    "outputId": "e650a941-f204-4968-aa44-c501437a5697",
    "papermill": {
     "duration": 0.038606,
     "end_time": "2022-04-04T09:12:40.781108",
     "exception": false,
     "start_time": "2022-04-04T09:12:40.742502",
     "status": "completed"
    },
    "tags": []
   },
   "outputs": [
    {
     "data": {
      "text/plain": [
       "(418, 11)"
      ]
     },
     "execution_count": 3,
     "metadata": {},
     "output_type": "execute_result"
    }
   ],
   "source": [
    "test.shape"
   ]
  },
  {
   "cell_type": "code",
   "execution_count": 4,
   "id": "89461cb5",
   "metadata": {
    "execution": {
     "iopub.execute_input": "2022-04-04T09:12:40.844439Z",
     "iopub.status.busy": "2022-04-04T09:12:40.843430Z",
     "iopub.status.idle": "2022-04-04T09:12:40.848729Z",
     "shell.execute_reply": "2022-04-04T09:12:40.849175Z",
     "shell.execute_reply.started": "2022-03-31T06:31:20.091874Z"
    },
    "id": "V-O5h2jprcU2",
    "outputId": "bf2459a1-bedc-4046-dc7f-4e0bf90246b7",
    "papermill": {
     "duration": 0.038556,
     "end_time": "2022-04-04T09:12:40.849361",
     "exception": false,
     "start_time": "2022-04-04T09:12:40.810805",
     "status": "completed"
    },
    "tags": []
   },
   "outputs": [
    {
     "data": {
      "text/plain": [
       "(891, 12)"
      ]
     },
     "execution_count": 4,
     "metadata": {},
     "output_type": "execute_result"
    }
   ],
   "source": [
    "train.shape"
   ]
  },
  {
   "cell_type": "markdown",
   "id": "4b54cd98",
   "metadata": {
    "id": "s6WtJ1pnhcse",
    "papermill": {
     "duration": 0.028675,
     "end_time": "2022-04-04T09:12:40.907327",
     "exception": false,
     "start_time": "2022-04-04T09:12:40.878652",
     "status": "completed"
    },
    "tags": []
   },
   "source": [
    "## **DATA CLEANING**"
   ]
  },
  {
   "cell_type": "code",
   "execution_count": 5,
   "id": "972d65cf",
   "metadata": {
    "execution": {
     "iopub.execute_input": "2022-04-04T09:12:40.994613Z",
     "iopub.status.busy": "2022-04-04T09:12:40.993839Z",
     "iopub.status.idle": "2022-04-04T09:12:40.999138Z",
     "shell.execute_reply": "2022-04-04T09:12:40.999689Z"
    },
    "id": "s70R1LHSfayD",
    "outputId": "f729cb8f-c479-495a-ab58-87df828762ea",
    "papermill": {
     "duration": 0.061645,
     "end_time": "2022-04-04T09:12:40.999887",
     "exception": false,
     "start_time": "2022-04-04T09:12:40.938242",
     "status": "completed"
    },
    "tags": []
   },
   "outputs": [
    {
     "name": "stdout",
     "output_type": "stream",
     "text": [
      "<class 'pandas.core.frame.DataFrame'>\n",
      "RangeIndex: 891 entries, 0 to 890\n",
      "Data columns (total 12 columns):\n",
      " #   Column       Non-Null Count  Dtype  \n",
      "---  ------       --------------  -----  \n",
      " 0   PassengerId  891 non-null    int64  \n",
      " 1   Survived     891 non-null    int64  \n",
      " 2   Pclass       891 non-null    int64  \n",
      " 3   Name         891 non-null    object \n",
      " 4   Sex          891 non-null    object \n",
      " 5   Age          714 non-null    float64\n",
      " 6   SibSp        891 non-null    int64  \n",
      " 7   Parch        891 non-null    int64  \n",
      " 8   Ticket       891 non-null    object \n",
      " 9   Fare         891 non-null    float64\n",
      " 10  Cabin        204 non-null    object \n",
      " 11  Embarked     889 non-null    object \n",
      "dtypes: float64(2), int64(5), object(5)\n",
      "memory usage: 83.7+ KB\n"
     ]
    }
   ],
   "source": [
    "train.info()"
   ]
  },
  {
   "cell_type": "code",
   "execution_count": 6,
   "id": "bb2c691d",
   "metadata": {
    "execution": {
     "iopub.execute_input": "2022-04-04T09:12:41.071821Z",
     "iopub.status.busy": "2022-04-04T09:12:41.071101Z",
     "iopub.status.idle": "2022-04-04T09:12:41.074828Z",
     "shell.execute_reply": "2022-04-04T09:12:41.073767Z"
    },
    "id": "DCyUQgJafend",
    "papermill": {
     "duration": 0.039616,
     "end_time": "2022-04-04T09:12:41.075035",
     "exception": false,
     "start_time": "2022-04-04T09:12:41.035419",
     "status": "completed"
    },
    "tags": []
   },
   "outputs": [],
   "source": [
    "train[\"Age\"]=train[\"Age\"].fillna(train[\"Age\"].mean())"
   ]
  },
  {
   "cell_type": "code",
   "execution_count": 7,
   "id": "70d48bfd",
   "metadata": {
    "execution": {
     "iopub.execute_input": "2022-04-04T09:12:41.143470Z",
     "iopub.status.busy": "2022-04-04T09:12:41.142802Z",
     "iopub.status.idle": "2022-04-04T09:12:41.145918Z",
     "shell.execute_reply": "2022-04-04T09:12:41.146406Z"
    },
    "id": "zj8XwMXNgDLS",
    "outputId": "279c6312-79d0-4081-f5cb-1e311b70d301",
    "papermill": {
     "duration": 0.041392,
     "end_time": "2022-04-04T09:12:41.146610",
     "exception": false,
     "start_time": "2022-04-04T09:12:41.105218",
     "status": "completed"
    },
    "tags": []
   },
   "outputs": [
    {
     "data": {
      "text/plain": [
       "array([nan, 'C85', 'C123', 'E46', 'G6', 'C103', 'D56', 'A6',\n",
       "       'C23 C25 C27', 'B78', 'D33', 'B30', 'C52', 'B28', 'C83', 'F33',\n",
       "       'F G73', 'E31', 'A5', 'D10 D12', 'D26', 'C110', 'B58 B60', 'E101',\n",
       "       'F E69', 'D47', 'B86', 'F2', 'C2', 'E33', 'B19', 'A7', 'C49', 'F4',\n",
       "       'A32', 'B4', 'B80', 'A31', 'D36', 'D15', 'C93', 'C78', 'D35',\n",
       "       'C87', 'B77', 'E67', 'B94', 'C125', 'C99', 'C118', 'D7', 'A19',\n",
       "       'B49', 'D', 'C22 C26', 'C106', 'C65', 'E36', 'C54',\n",
       "       'B57 B59 B63 B66', 'C7', 'E34', 'C32', 'B18', 'C124', 'C91', 'E40',\n",
       "       'T', 'C128', 'D37', 'B35', 'E50', 'C82', 'B96 B98', 'E10', 'E44',\n",
       "       'A34', 'C104', 'C111', 'C92', 'E38', 'D21', 'E12', 'E63', 'A14',\n",
       "       'B37', 'C30', 'D20', 'B79', 'E25', 'D46', 'B73', 'C95', 'B38',\n",
       "       'B39', 'B22', 'C86', 'C70', 'A16', 'C101', 'C68', 'A10', 'E68',\n",
       "       'B41', 'A20', 'D19', 'D50', 'D9', 'A23', 'B50', 'A26', 'D48',\n",
       "       'E58', 'C126', 'B71', 'B51 B53 B55', 'D49', 'B5', 'B20', 'F G63',\n",
       "       'C62 C64', 'E24', 'C90', 'C45', 'E8', 'B101', 'D45', 'C46', 'D30',\n",
       "       'E121', 'D11', 'E77', 'F38', 'B3', 'D6', 'B82 B84', 'D17', 'A36',\n",
       "       'B102', 'B69', 'E49', 'C47', 'D28', 'E17', 'A24', 'C50', 'B42',\n",
       "       'C148'], dtype=object)"
      ]
     },
     "execution_count": 7,
     "metadata": {},
     "output_type": "execute_result"
    }
   ],
   "source": [
    "train[\"Cabin\"].unique()"
   ]
  },
  {
   "cell_type": "code",
   "execution_count": 8,
   "id": "81ad9d02",
   "metadata": {
    "execution": {
     "iopub.execute_input": "2022-04-04T09:12:41.224272Z",
     "iopub.status.busy": "2022-04-04T09:12:41.223607Z",
     "iopub.status.idle": "2022-04-04T09:12:41.227599Z",
     "shell.execute_reply": "2022-04-04T09:12:41.227037Z"
    },
    "id": "Mc1bEF2Ogjcb",
    "outputId": "3e2ea057-73ec-43fe-d6c7-51255a6a7bc0",
    "papermill": {
     "duration": 0.04884,
     "end_time": "2022-04-04T09:12:41.227777",
     "exception": false,
     "start_time": "2022-04-04T09:12:41.178937",
     "status": "completed"
    },
    "tags": []
   },
   "outputs": [
    {
     "name": "stdout",
     "output_type": "stream",
     "text": [
      "<class 'pandas.core.frame.DataFrame'>\n",
      "RangeIndex: 891 entries, 0 to 890\n",
      "Data columns (total 12 columns):\n",
      " #   Column       Non-Null Count  Dtype  \n",
      "---  ------       --------------  -----  \n",
      " 0   PassengerId  891 non-null    int64  \n",
      " 1   Survived     891 non-null    int64  \n",
      " 2   Pclass       891 non-null    int64  \n",
      " 3   Name         891 non-null    object \n",
      " 4   Sex          891 non-null    object \n",
      " 5   Age          891 non-null    float64\n",
      " 6   SibSp        891 non-null    int64  \n",
      " 7   Parch        891 non-null    int64  \n",
      " 8   Ticket       891 non-null    object \n",
      " 9   Fare         891 non-null    float64\n",
      " 10  Cabin        204 non-null    object \n",
      " 11  Embarked     889 non-null    object \n",
      "dtypes: float64(2), int64(5), object(5)\n",
      "memory usage: 83.7+ KB\n"
     ]
    }
   ],
   "source": [
    "train.info()"
   ]
  },
  {
   "cell_type": "code",
   "execution_count": 9,
   "id": "aebe2982",
   "metadata": {
    "execution": {
     "iopub.execute_input": "2022-04-04T09:12:41.300243Z",
     "iopub.status.busy": "2022-04-04T09:12:41.299571Z",
     "iopub.status.idle": "2022-04-04T09:12:41.302620Z",
     "shell.execute_reply": "2022-04-04T09:12:41.302094Z"
    },
    "id": "pEljLOK5gvSM",
    "papermill": {
     "duration": 0.042353,
     "end_time": "2022-04-04T09:12:41.302772",
     "exception": false,
     "start_time": "2022-04-04T09:12:41.260419",
     "status": "completed"
    },
    "tags": []
   },
   "outputs": [],
   "source": [
    "train=train.drop(\"Cabin\",axis=1)"
   ]
  },
  {
   "cell_type": "code",
   "execution_count": 10,
   "id": "f109e84d",
   "metadata": {
    "execution": {
     "iopub.execute_input": "2022-04-04T09:12:41.380769Z",
     "iopub.status.busy": "2022-04-04T09:12:41.379877Z",
     "iopub.status.idle": "2022-04-04T09:12:41.383261Z",
     "shell.execute_reply": "2022-04-04T09:12:41.383765Z"
    },
    "id": "J78rCGHahQ0r",
    "outputId": "a6f57343-497d-4311-9c8c-1793daf26674",
    "papermill": {
     "duration": 0.04929,
     "end_time": "2022-04-04T09:12:41.383955",
     "exception": false,
     "start_time": "2022-04-04T09:12:41.334665",
     "status": "completed"
    },
    "tags": []
   },
   "outputs": [
    {
     "name": "stdout",
     "output_type": "stream",
     "text": [
      "<class 'pandas.core.frame.DataFrame'>\n",
      "RangeIndex: 891 entries, 0 to 890\n",
      "Data columns (total 11 columns):\n",
      " #   Column       Non-Null Count  Dtype  \n",
      "---  ------       --------------  -----  \n",
      " 0   PassengerId  891 non-null    int64  \n",
      " 1   Survived     891 non-null    int64  \n",
      " 2   Pclass       891 non-null    int64  \n",
      " 3   Name         891 non-null    object \n",
      " 4   Sex          891 non-null    object \n",
      " 5   Age          891 non-null    float64\n",
      " 6   SibSp        891 non-null    int64  \n",
      " 7   Parch        891 non-null    int64  \n",
      " 8   Ticket       891 non-null    object \n",
      " 9   Fare         891 non-null    float64\n",
      " 10  Embarked     889 non-null    object \n",
      "dtypes: float64(2), int64(5), object(4)\n",
      "memory usage: 76.7+ KB\n"
     ]
    }
   ],
   "source": [
    "train.info()"
   ]
  },
  {
   "cell_type": "code",
   "execution_count": 11,
   "id": "b267938c",
   "metadata": {
    "execution": {
     "iopub.execute_input": "2022-04-04T09:12:41.464059Z",
     "iopub.status.busy": "2022-04-04T09:12:41.463356Z",
     "iopub.status.idle": "2022-04-04T09:12:41.466576Z",
     "shell.execute_reply": "2022-04-04T09:12:41.467036Z"
    },
    "id": "tf4t-KSDiHHf",
    "outputId": "b8e08f91-9ad9-4cd1-bdc2-6bac56a62b8f",
    "papermill": {
     "duration": 0.050653,
     "end_time": "2022-04-04T09:12:41.467238",
     "exception": false,
     "start_time": "2022-04-04T09:12:41.416585",
     "status": "completed"
    },
    "tags": []
   },
   "outputs": [
    {
     "name": "stdout",
     "output_type": "stream",
     "text": [
      "<class 'pandas.core.frame.DataFrame'>\n",
      "RangeIndex: 891 entries, 0 to 890\n",
      "Data columns (total 8 columns):\n",
      " #   Column       Non-Null Count  Dtype  \n",
      "---  ------       --------------  -----  \n",
      " 0   PassengerId  891 non-null    int64  \n",
      " 1   Survived     891 non-null    int64  \n",
      " 2   Pclass       891 non-null    int64  \n",
      " 3   Sex          891 non-null    object \n",
      " 4   Age          891 non-null    float64\n",
      " 5   SibSp        891 non-null    int64  \n",
      " 6   Parch        891 non-null    int64  \n",
      " 7   Embarked     889 non-null    object \n",
      "dtypes: float64(1), int64(5), object(2)\n",
      "memory usage: 55.8+ KB\n"
     ]
    }
   ],
   "source": [
    "train.drop(['Name', 'Fare', 'Ticket'], axis = 1, inplace = True)\n",
    "train.info()"
   ]
  },
  {
   "cell_type": "code",
   "execution_count": 12,
   "id": "54768b0d",
   "metadata": {
    "execution": {
     "iopub.execute_input": "2022-04-04T09:12:41.539672Z",
     "iopub.status.busy": "2022-04-04T09:12:41.538951Z",
     "iopub.status.idle": "2022-04-04T09:12:41.541618Z",
     "shell.execute_reply": "2022-04-04T09:12:41.541090Z"
    },
    "id": "dW05GyJFy8w0",
    "papermill": {
     "duration": 0.041219,
     "end_time": "2022-04-04T09:12:41.541769",
     "exception": false,
     "start_time": "2022-04-04T09:12:41.500550",
     "status": "completed"
    },
    "tags": []
   },
   "outputs": [],
   "source": [
    "train.drop(['Embarked'], axis = 1, inplace = True)"
   ]
  },
  {
   "cell_type": "code",
   "execution_count": 13,
   "id": "65935a55",
   "metadata": {
    "execution": {
     "iopub.execute_input": "2022-04-04T09:12:41.620543Z",
     "iopub.status.busy": "2022-04-04T09:12:41.619830Z",
     "iopub.status.idle": "2022-04-04T09:12:41.622852Z",
     "shell.execute_reply": "2022-04-04T09:12:41.623361Z"
    },
    "id": "jkLhyY_IjnI0",
    "outputId": "faafdf0e-afee-4af9-d642-cebe3080dff5",
    "papermill": {
     "duration": 0.049507,
     "end_time": "2022-04-04T09:12:41.623565",
     "exception": false,
     "start_time": "2022-04-04T09:12:41.574058",
     "status": "completed"
    },
    "tags": []
   },
   "outputs": [
    {
     "name": "stdout",
     "output_type": "stream",
     "text": [
      "<class 'pandas.core.frame.DataFrame'>\n",
      "RangeIndex: 891 entries, 0 to 890\n",
      "Data columns (total 7 columns):\n",
      " #   Column       Non-Null Count  Dtype  \n",
      "---  ------       --------------  -----  \n",
      " 0   PassengerId  891 non-null    int64  \n",
      " 1   Survived     891 non-null    int64  \n",
      " 2   Pclass       891 non-null    int64  \n",
      " 3   Sex          891 non-null    object \n",
      " 4   Age          891 non-null    float64\n",
      " 5   SibSp        891 non-null    int64  \n",
      " 6   Parch        891 non-null    int64  \n",
      "dtypes: float64(1), int64(5), object(1)\n",
      "memory usage: 48.9+ KB\n"
     ]
    }
   ],
   "source": [
    "train.info()"
   ]
  },
  {
   "cell_type": "code",
   "execution_count": 14,
   "id": "f44b0946",
   "metadata": {
    "execution": {
     "iopub.execute_input": "2022-04-04T09:12:41.700732Z",
     "iopub.status.busy": "2022-04-04T09:12:41.700046Z",
     "iopub.status.idle": "2022-04-04T09:12:41.703045Z",
     "shell.execute_reply": "2022-04-04T09:12:41.702365Z"
    },
    "id": "ioJBssoyvmJy",
    "papermill": {
     "duration": 0.045299,
     "end_time": "2022-04-04T09:12:41.703201",
     "exception": false,
     "start_time": "2022-04-04T09:12:41.657902",
     "status": "completed"
    },
    "tags": []
   },
   "outputs": [],
   "source": [
    "train['Sex']=train['Sex'].map({'male':0,'female':1})"
   ]
  },
  {
   "cell_type": "code",
   "execution_count": 15,
   "id": "956cb34f",
   "metadata": {
    "execution": {
     "iopub.execute_input": "2022-04-04T09:12:41.781492Z",
     "iopub.status.busy": "2022-04-04T09:12:41.780228Z",
     "iopub.status.idle": "2022-04-04T09:12:41.800096Z",
     "shell.execute_reply": "2022-04-04T09:12:41.799539Z"
    },
    "id": "faWUv1EhlLgB",
    "outputId": "2370356e-a07e-42b1-a823-e2c2ec71cab9",
    "papermill": {
     "duration": 0.061022,
     "end_time": "2022-04-04T09:12:41.800272",
     "exception": false,
     "start_time": "2022-04-04T09:12:41.739250",
     "status": "completed"
    },
    "tags": []
   },
   "outputs": [
    {
     "data": {
      "text/html": [
       "<div>\n",
       "<style scoped>\n",
       "    .dataframe tbody tr th:only-of-type {\n",
       "        vertical-align: middle;\n",
       "    }\n",
       "\n",
       "    .dataframe tbody tr th {\n",
       "        vertical-align: top;\n",
       "    }\n",
       "\n",
       "    .dataframe thead th {\n",
       "        text-align: right;\n",
       "    }\n",
       "</style>\n",
       "<table border=\"1\" class=\"dataframe\">\n",
       "  <thead>\n",
       "    <tr style=\"text-align: right;\">\n",
       "      <th></th>\n",
       "      <th>PassengerId</th>\n",
       "      <th>Survived</th>\n",
       "      <th>Pclass</th>\n",
       "      <th>Sex</th>\n",
       "      <th>Age</th>\n",
       "      <th>SibSp</th>\n",
       "      <th>Parch</th>\n",
       "    </tr>\n",
       "  </thead>\n",
       "  <tbody>\n",
       "    <tr>\n",
       "      <th>PassengerId</th>\n",
       "      <td>1.000000</td>\n",
       "      <td>-0.005007</td>\n",
       "      <td>-0.035144</td>\n",
       "      <td>-0.042939</td>\n",
       "      <td>0.033207</td>\n",
       "      <td>-0.057527</td>\n",
       "      <td>-0.001652</td>\n",
       "    </tr>\n",
       "    <tr>\n",
       "      <th>Survived</th>\n",
       "      <td>-0.005007</td>\n",
       "      <td>1.000000</td>\n",
       "      <td>-0.338481</td>\n",
       "      <td>0.543351</td>\n",
       "      <td>-0.069809</td>\n",
       "      <td>-0.035322</td>\n",
       "      <td>0.081629</td>\n",
       "    </tr>\n",
       "    <tr>\n",
       "      <th>Pclass</th>\n",
       "      <td>-0.035144</td>\n",
       "      <td>-0.338481</td>\n",
       "      <td>1.000000</td>\n",
       "      <td>-0.131900</td>\n",
       "      <td>-0.331339</td>\n",
       "      <td>0.083081</td>\n",
       "      <td>0.018443</td>\n",
       "    </tr>\n",
       "    <tr>\n",
       "      <th>Sex</th>\n",
       "      <td>-0.042939</td>\n",
       "      <td>0.543351</td>\n",
       "      <td>-0.131900</td>\n",
       "      <td>1.000000</td>\n",
       "      <td>-0.084153</td>\n",
       "      <td>0.114631</td>\n",
       "      <td>0.245489</td>\n",
       "    </tr>\n",
       "    <tr>\n",
       "      <th>Age</th>\n",
       "      <td>0.033207</td>\n",
       "      <td>-0.069809</td>\n",
       "      <td>-0.331339</td>\n",
       "      <td>-0.084153</td>\n",
       "      <td>1.000000</td>\n",
       "      <td>-0.232625</td>\n",
       "      <td>-0.179191</td>\n",
       "    </tr>\n",
       "    <tr>\n",
       "      <th>SibSp</th>\n",
       "      <td>-0.057527</td>\n",
       "      <td>-0.035322</td>\n",
       "      <td>0.083081</td>\n",
       "      <td>0.114631</td>\n",
       "      <td>-0.232625</td>\n",
       "      <td>1.000000</td>\n",
       "      <td>0.414838</td>\n",
       "    </tr>\n",
       "    <tr>\n",
       "      <th>Parch</th>\n",
       "      <td>-0.001652</td>\n",
       "      <td>0.081629</td>\n",
       "      <td>0.018443</td>\n",
       "      <td>0.245489</td>\n",
       "      <td>-0.179191</td>\n",
       "      <td>0.414838</td>\n",
       "      <td>1.000000</td>\n",
       "    </tr>\n",
       "  </tbody>\n",
       "</table>\n",
       "</div>"
      ],
      "text/plain": [
       "             PassengerId  Survived    Pclass       Sex       Age     SibSp  \\\n",
       "PassengerId     1.000000 -0.005007 -0.035144 -0.042939  0.033207 -0.057527   \n",
       "Survived       -0.005007  1.000000 -0.338481  0.543351 -0.069809 -0.035322   \n",
       "Pclass         -0.035144 -0.338481  1.000000 -0.131900 -0.331339  0.083081   \n",
       "Sex            -0.042939  0.543351 -0.131900  1.000000 -0.084153  0.114631   \n",
       "Age             0.033207 -0.069809 -0.331339 -0.084153  1.000000 -0.232625   \n",
       "SibSp          -0.057527 -0.035322  0.083081  0.114631 -0.232625  1.000000   \n",
       "Parch          -0.001652  0.081629  0.018443  0.245489 -0.179191  0.414838   \n",
       "\n",
       "                Parch  \n",
       "PassengerId -0.001652  \n",
       "Survived     0.081629  \n",
       "Pclass       0.018443  \n",
       "Sex          0.245489  \n",
       "Age         -0.179191  \n",
       "SibSp        0.414838  \n",
       "Parch        1.000000  "
      ]
     },
     "execution_count": 15,
     "metadata": {},
     "output_type": "execute_result"
    }
   ],
   "source": [
    "train.corr()"
   ]
  },
  {
   "cell_type": "markdown",
   "id": "dc279b9b",
   "metadata": {
    "id": "nS2Nz6OrrcU7",
    "papermill": {
     "duration": 0.035169,
     "end_time": "2022-04-04T09:12:41.870347",
     "exception": false,
     "start_time": "2022-04-04T09:12:41.835178",
     "status": "completed"
    },
    "tags": []
   },
   "source": [
    "## **Cleaning Test Dataset File**"
   ]
  },
  {
   "cell_type": "code",
   "execution_count": 16,
   "id": "55870530",
   "metadata": {
    "execution": {
     "iopub.execute_input": "2022-04-04T09:12:41.946995Z",
     "iopub.status.busy": "2022-04-04T09:12:41.946055Z",
     "iopub.status.idle": "2022-04-04T09:12:41.957109Z",
     "shell.execute_reply": "2022-04-04T09:12:41.957792Z",
     "shell.execute_reply.started": "2022-03-31T06:31:20.33793Z"
    },
    "id": "-8HiN1P7rcU7",
    "outputId": "4f33862c-e380-411f-bfe1-f9446ef277cd",
    "papermill": {
     "duration": 0.053061,
     "end_time": "2022-04-04T09:12:41.958019",
     "exception": false,
     "start_time": "2022-04-04T09:12:41.904958",
     "status": "completed"
    },
    "tags": []
   },
   "outputs": [
    {
     "name": "stdout",
     "output_type": "stream",
     "text": [
      "<class 'pandas.core.frame.DataFrame'>\n",
      "RangeIndex: 418 entries, 0 to 417\n",
      "Data columns (total 11 columns):\n",
      " #   Column       Non-Null Count  Dtype  \n",
      "---  ------       --------------  -----  \n",
      " 0   PassengerId  418 non-null    int64  \n",
      " 1   Pclass       418 non-null    int64  \n",
      " 2   Name         418 non-null    object \n",
      " 3   Sex          418 non-null    object \n",
      " 4   Age          332 non-null    float64\n",
      " 5   SibSp        418 non-null    int64  \n",
      " 6   Parch        418 non-null    int64  \n",
      " 7   Ticket       418 non-null    object \n",
      " 8   Fare         417 non-null    float64\n",
      " 9   Cabin        91 non-null     object \n",
      " 10  Embarked     418 non-null    object \n",
      "dtypes: float64(2), int64(4), object(5)\n",
      "memory usage: 36.0+ KB\n"
     ]
    }
   ],
   "source": [
    "test.info()"
   ]
  },
  {
   "cell_type": "code",
   "execution_count": 17,
   "id": "1c1c903f",
   "metadata": {
    "execution": {
     "iopub.execute_input": "2022-04-04T09:12:42.036896Z",
     "iopub.status.busy": "2022-04-04T09:12:42.036209Z",
     "iopub.status.idle": "2022-04-04T09:12:42.046182Z",
     "shell.execute_reply": "2022-04-04T09:12:42.047023Z"
    },
    "id": "bL51Jc7SliE2",
    "outputId": "d7120f06-0963-4022-efb0-5d596f462f7b",
    "papermill": {
     "duration": 0.053869,
     "end_time": "2022-04-04T09:12:42.047235",
     "exception": false,
     "start_time": "2022-04-04T09:12:41.993366",
     "status": "completed"
    },
    "tags": []
   },
   "outputs": [
    {
     "name": "stdout",
     "output_type": "stream",
     "text": [
      "<class 'pandas.core.frame.DataFrame'>\n",
      "RangeIndex: 418 entries, 0 to 417\n",
      "Data columns (total 7 columns):\n",
      " #   Column       Non-Null Count  Dtype  \n",
      "---  ------       --------------  -----  \n",
      " 0   PassengerId  418 non-null    int64  \n",
      " 1   Pclass       418 non-null    int64  \n",
      " 2   Sex          418 non-null    object \n",
      " 3   Age          332 non-null    float64\n",
      " 4   SibSp        418 non-null    int64  \n",
      " 5   Parch        418 non-null    int64  \n",
      " 6   Embarked     418 non-null    object \n",
      "dtypes: float64(1), int64(4), object(2)\n",
      "memory usage: 23.0+ KB\n"
     ]
    }
   ],
   "source": [
    "test.drop(['Name', 'Fare', 'Ticket',\"Cabin\"], axis = 1, inplace = True)\n",
    "test.info()"
   ]
  },
  {
   "cell_type": "code",
   "execution_count": 18,
   "id": "6f94e3d5",
   "metadata": {
    "execution": {
     "iopub.execute_input": "2022-04-04T09:12:42.122031Z",
     "iopub.status.busy": "2022-04-04T09:12:42.121335Z",
     "iopub.status.idle": "2022-04-04T09:12:42.126016Z",
     "shell.execute_reply": "2022-04-04T09:12:42.126492Z"
    },
    "id": "qpuVFK5amRrm",
    "papermill": {
     "duration": 0.043465,
     "end_time": "2022-04-04T09:12:42.126679",
     "exception": false,
     "start_time": "2022-04-04T09:12:42.083214",
     "status": "completed"
    },
    "tags": []
   },
   "outputs": [],
   "source": [
    "test[\"Age\"]=test[\"Age\"].fillna(test[\"Age\"].mean())"
   ]
  },
  {
   "cell_type": "code",
   "execution_count": 19,
   "id": "37b87476",
   "metadata": {
    "execution": {
     "iopub.execute_input": "2022-04-04T09:12:42.200534Z",
     "iopub.status.busy": "2022-04-04T09:12:42.199905Z",
     "iopub.status.idle": "2022-04-04T09:12:42.211806Z",
     "shell.execute_reply": "2022-04-04T09:12:42.212416Z"
    },
    "id": "Jjs8k0CSpMwS",
    "outputId": "a0acbb8d-4902-4618-c59b-c512323c9d12",
    "papermill": {
     "duration": 0.050784,
     "end_time": "2022-04-04T09:12:42.212641",
     "exception": false,
     "start_time": "2022-04-04T09:12:42.161857",
     "status": "completed"
    },
    "tags": []
   },
   "outputs": [
    {
     "name": "stdout",
     "output_type": "stream",
     "text": [
      "<class 'pandas.core.frame.DataFrame'>\n",
      "RangeIndex: 418 entries, 0 to 417\n",
      "Data columns (total 7 columns):\n",
      " #   Column       Non-Null Count  Dtype  \n",
      "---  ------       --------------  -----  \n",
      " 0   PassengerId  418 non-null    int64  \n",
      " 1   Pclass       418 non-null    int64  \n",
      " 2   Sex          418 non-null    object \n",
      " 3   Age          418 non-null    float64\n",
      " 4   SibSp        418 non-null    int64  \n",
      " 5   Parch        418 non-null    int64  \n",
      " 6   Embarked     418 non-null    object \n",
      "dtypes: float64(1), int64(4), object(2)\n",
      "memory usage: 23.0+ KB\n"
     ]
    }
   ],
   "source": [
    "test.info()"
   ]
  },
  {
   "cell_type": "code",
   "execution_count": 20,
   "id": "bd89214e",
   "metadata": {
    "execution": {
     "iopub.execute_input": "2022-04-04T09:12:42.289402Z",
     "iopub.status.busy": "2022-04-04T09:12:42.288432Z",
     "iopub.status.idle": "2022-04-04T09:12:42.293926Z",
     "shell.execute_reply": "2022-04-04T09:12:42.294425Z"
    },
    "id": "PBX275-hqEOW",
    "papermill": {
     "duration": 0.04571,
     "end_time": "2022-04-04T09:12:42.294630",
     "exception": false,
     "start_time": "2022-04-04T09:12:42.248920",
     "status": "completed"
    },
    "tags": []
   },
   "outputs": [],
   "source": [
    "test.drop(['Embarked'], axis = 1, inplace = True)"
   ]
  },
  {
   "cell_type": "code",
   "execution_count": 21,
   "id": "2179c41d",
   "metadata": {
    "execution": {
     "iopub.execute_input": "2022-04-04T09:12:42.369490Z",
     "iopub.status.busy": "2022-04-04T09:12:42.368892Z",
     "iopub.status.idle": "2022-04-04T09:12:42.374452Z",
     "shell.execute_reply": "2022-04-04T09:12:42.374954Z"
    },
    "id": "bEv3P44PvxDE",
    "papermill": {
     "duration": 0.044699,
     "end_time": "2022-04-04T09:12:42.375124",
     "exception": false,
     "start_time": "2022-04-04T09:12:42.330425",
     "status": "completed"
    },
    "tags": []
   },
   "outputs": [],
   "source": [
    "test['Sex']=test['Sex'].map({'male':0,'female':1})"
   ]
  },
  {
   "cell_type": "code",
   "execution_count": 22,
   "id": "e9d0ebf3",
   "metadata": {
    "execution": {
     "iopub.execute_input": "2022-04-04T09:12:42.450502Z",
     "iopub.status.busy": "2022-04-04T09:12:42.449886Z",
     "iopub.status.idle": "2022-04-04T09:12:42.462969Z",
     "shell.execute_reply": "2022-04-04T09:12:42.462182Z"
    },
    "id": "LwwwHxYBqXMZ",
    "outputId": "7d7d6b09-196c-4daa-d10f-78af7074e4bf",
    "papermill": {
     "duration": 0.051982,
     "end_time": "2022-04-04T09:12:42.463151",
     "exception": false,
     "start_time": "2022-04-04T09:12:42.411169",
     "status": "completed"
    },
    "tags": []
   },
   "outputs": [
    {
     "name": "stdout",
     "output_type": "stream",
     "text": [
      "<class 'pandas.core.frame.DataFrame'>\n",
      "RangeIndex: 418 entries, 0 to 417\n",
      "Data columns (total 6 columns):\n",
      " #   Column       Non-Null Count  Dtype  \n",
      "---  ------       --------------  -----  \n",
      " 0   PassengerId  418 non-null    int64  \n",
      " 1   Pclass       418 non-null    int64  \n",
      " 2   Sex          418 non-null    int64  \n",
      " 3   Age          418 non-null    float64\n",
      " 4   SibSp        418 non-null    int64  \n",
      " 5   Parch        418 non-null    int64  \n",
      "dtypes: float64(1), int64(5)\n",
      "memory usage: 19.7 KB\n"
     ]
    }
   ],
   "source": [
    "test.info()"
   ]
  },
  {
   "cell_type": "markdown",
   "id": "c5c8245e",
   "metadata": {
    "id": "1oRlaYMXsGrP",
    "papermill": {
     "duration": 0.035894,
     "end_time": "2022-04-04T09:12:42.536087",
     "exception": false,
     "start_time": "2022-04-04T09:12:42.500193",
     "status": "completed"
    },
    "tags": []
   },
   "source": [
    "## **DEFINING X AND Y**"
   ]
  },
  {
   "cell_type": "code",
   "execution_count": 23,
   "id": "2ae62d85",
   "metadata": {
    "execution": {
     "iopub.execute_input": "2022-04-04T09:12:42.615446Z",
     "iopub.status.busy": "2022-04-04T09:12:42.613981Z",
     "iopub.status.idle": "2022-04-04T09:12:42.617443Z",
     "shell.execute_reply": "2022-04-04T09:12:42.617938Z"
    },
    "id": "dXNEcDFHsFq0",
    "papermill": {
     "duration": 0.045844,
     "end_time": "2022-04-04T09:12:42.618095",
     "exception": false,
     "start_time": "2022-04-04T09:12:42.572251",
     "status": "completed"
    },
    "tags": []
   },
   "outputs": [],
   "source": [
    "X=train.drop(['Survived'],axis=1)\n",
    "y=train['Survived']"
   ]
  },
  {
   "cell_type": "markdown",
   "id": "ee8d834c",
   "metadata": {
    "id": "4mXkwlEQrcU9",
    "papermill": {
     "duration": 0.036598,
     "end_time": "2022-04-04T09:12:42.690899",
     "exception": false,
     "start_time": "2022-04-04T09:12:42.654301",
     "status": "completed"
    },
    "tags": []
   },
   "source": [
    "## Model Building"
   ]
  },
  {
   "cell_type": "markdown",
   "id": "ec2c214a",
   "metadata": {
    "id": "Fa82s3rjrcU-",
    "papermill": {
     "duration": 0.03627,
     "end_time": "2022-04-04T09:12:42.763988",
     "exception": false,
     "start_time": "2022-04-04T09:12:42.727718",
     "status": "completed"
    },
    "tags": []
   },
   "source": [
    "## Logistic Regression"
   ]
  },
  {
   "cell_type": "code",
   "execution_count": 24,
   "id": "07c3f5e9",
   "metadata": {
    "execution": {
     "iopub.execute_input": "2022-04-04T09:12:42.842033Z",
     "iopub.status.busy": "2022-04-04T09:12:42.841335Z",
     "iopub.status.idle": "2022-04-04T09:12:43.002082Z",
     "shell.execute_reply": "2022-04-04T09:12:43.001424Z",
     "shell.execute_reply.started": "2022-03-31T06:31:20.730917Z"
    },
    "id": "dFaD7ckxrcU-",
    "papermill": {
     "duration": 0.201775,
     "end_time": "2022-04-04T09:12:43.002252",
     "exception": false,
     "start_time": "2022-04-04T09:12:42.800477",
     "status": "completed"
    },
    "tags": []
   },
   "outputs": [],
   "source": [
    "from sklearn.linear_model import LogisticRegression\n",
    "model = LogisticRegression(random_state=48)"
   ]
  },
  {
   "cell_type": "code",
   "execution_count": 25,
   "id": "9350b2e7",
   "metadata": {
    "execution": {
     "iopub.execute_input": "2022-04-04T09:12:43.084695Z",
     "iopub.status.busy": "2022-04-04T09:12:43.083694Z",
     "iopub.status.idle": "2022-04-04T09:12:43.121029Z",
     "shell.execute_reply": "2022-04-04T09:12:43.121547Z",
     "shell.execute_reply.started": "2022-03-31T06:31:20.733926Z"
    },
    "id": "9rHu2-wzrcU-",
    "papermill": {
     "duration": 0.078961,
     "end_time": "2022-04-04T09:12:43.121749",
     "exception": false,
     "start_time": "2022-04-04T09:12:43.042788",
     "status": "completed"
    },
    "tags": []
   },
   "outputs": [],
   "source": [
    "model.fit(X,y);"
   ]
  },
  {
   "cell_type": "code",
   "execution_count": 26,
   "id": "146558ad",
   "metadata": {
    "execution": {
     "iopub.execute_input": "2022-04-04T09:12:43.201132Z",
     "iopub.status.busy": "2022-04-04T09:12:43.200415Z",
     "iopub.status.idle": "2022-04-04T09:12:43.206288Z",
     "shell.execute_reply": "2022-04-04T09:12:43.206849Z"
    },
    "id": "u6L2aT8X0iv6",
    "papermill": {
     "duration": 0.047865,
     "end_time": "2022-04-04T09:12:43.207035",
     "exception": false,
     "start_time": "2022-04-04T09:12:43.159170",
     "status": "completed"
    },
    "tags": []
   },
   "outputs": [],
   "source": [
    "predic=model.predict(test)"
   ]
  },
  {
   "cell_type": "markdown",
   "id": "71cbd330",
   "metadata": {
    "id": "LVSFq4jn01LA",
    "papermill": {
     "duration": 0.037689,
     "end_time": "2022-04-04T09:12:43.283691",
     "exception": false,
     "start_time": "2022-04-04T09:12:43.246002",
     "status": "completed"
    },
    "tags": []
   },
   "source": [
    "## **SUBMISSION FILE GENERATION**"
   ]
  },
  {
   "cell_type": "code",
   "execution_count": 27,
   "id": "5100b547",
   "metadata": {
    "execution": {
     "iopub.execute_input": "2022-04-04T09:12:43.372409Z",
     "iopub.status.busy": "2022-04-04T09:12:43.371718Z",
     "iopub.status.idle": "2022-04-04T09:12:43.376823Z",
     "shell.execute_reply": "2022-04-04T09:12:43.377599Z"
    },
    "id": "FeyZ2mSY0rBv",
    "outputId": "75cd8dec-eb68-44bf-898e-356811c07188",
    "papermill": {
     "duration": 0.056863,
     "end_time": "2022-04-04T09:12:43.377864",
     "exception": false,
     "start_time": "2022-04-04T09:12:43.321001",
     "status": "completed"
    },
    "tags": []
   },
   "outputs": [
    {
     "name": "stderr",
     "output_type": "stream",
     "text": [
      "/opt/conda/lib/python3.7/site-packages/ipykernel_launcher.py:2: SettingWithCopyWarning: \n",
      "A value is trying to be set on a copy of a slice from a DataFrame.\n",
      "Try using .loc[row_indexer,col_indexer] = value instead\n",
      "\n",
      "See the caveats in the documentation: https://pandas.pydata.org/pandas-docs/stable/user_guide/indexing.html#returning-a-view-versus-a-copy\n",
      "  \n"
     ]
    },
    {
     "data": {
      "text/html": [
       "<div>\n",
       "<style scoped>\n",
       "    .dataframe tbody tr th:only-of-type {\n",
       "        vertical-align: middle;\n",
       "    }\n",
       "\n",
       "    .dataframe tbody tr th {\n",
       "        vertical-align: top;\n",
       "    }\n",
       "\n",
       "    .dataframe thead th {\n",
       "        text-align: right;\n",
       "    }\n",
       "</style>\n",
       "<table border=\"1\" class=\"dataframe\">\n",
       "  <thead>\n",
       "    <tr style=\"text-align: right;\">\n",
       "      <th></th>\n",
       "      <th>PassengerId</th>\n",
       "      <th>Survived</th>\n",
       "    </tr>\n",
       "  </thead>\n",
       "  <tbody>\n",
       "    <tr>\n",
       "      <th>0</th>\n",
       "      <td>892</td>\n",
       "      <td>0</td>\n",
       "    </tr>\n",
       "    <tr>\n",
       "      <th>1</th>\n",
       "      <td>893</td>\n",
       "      <td>0</td>\n",
       "    </tr>\n",
       "    <tr>\n",
       "      <th>2</th>\n",
       "      <td>894</td>\n",
       "      <td>0</td>\n",
       "    </tr>\n",
       "    <tr>\n",
       "      <th>3</th>\n",
       "      <td>895</td>\n",
       "      <td>0</td>\n",
       "    </tr>\n",
       "    <tr>\n",
       "      <th>4</th>\n",
       "      <td>896</td>\n",
       "      <td>1</td>\n",
       "    </tr>\n",
       "    <tr>\n",
       "      <th>...</th>\n",
       "      <td>...</td>\n",
       "      <td>...</td>\n",
       "    </tr>\n",
       "    <tr>\n",
       "      <th>413</th>\n",
       "      <td>1305</td>\n",
       "      <td>0</td>\n",
       "    </tr>\n",
       "    <tr>\n",
       "      <th>414</th>\n",
       "      <td>1306</td>\n",
       "      <td>1</td>\n",
       "    </tr>\n",
       "    <tr>\n",
       "      <th>415</th>\n",
       "      <td>1307</td>\n",
       "      <td>0</td>\n",
       "    </tr>\n",
       "    <tr>\n",
       "      <th>416</th>\n",
       "      <td>1308</td>\n",
       "      <td>0</td>\n",
       "    </tr>\n",
       "    <tr>\n",
       "      <th>417</th>\n",
       "      <td>1309</td>\n",
       "      <td>0</td>\n",
       "    </tr>\n",
       "  </tbody>\n",
       "</table>\n",
       "<p>418 rows × 2 columns</p>\n",
       "</div>"
      ],
      "text/plain": [
       "     PassengerId  Survived\n",
       "0            892         0\n",
       "1            893         0\n",
       "2            894         0\n",
       "3            895         0\n",
       "4            896         1\n",
       "..           ...       ...\n",
       "413         1305         0\n",
       "414         1306         1\n",
       "415         1307         0\n",
       "416         1308         0\n",
       "417         1309         0\n",
       "\n",
       "[418 rows x 2 columns]"
      ]
     },
     "execution_count": 27,
     "metadata": {},
     "output_type": "execute_result"
    }
   ],
   "source": [
    "submission=test[['PassengerId']]\n",
    "submission['Survived']=predic\n",
    "submission"
   ]
  }
 ],
 "metadata": {
  "kernelspec": {
   "display_name": "Python 3",
   "language": "python",
   "name": "python3"
  },
  "language_info": {
   "codemirror_mode": {
    "name": "ipython",
    "version": 3
   },
   "file_extension": ".py",
   "mimetype": "text/x-python",
   "name": "python",
   "nbconvert_exporter": "python",
   "pygments_lexer": "ipython3",
   "version": "3.7.12"
  },
  "papermill": {
   "default_parameters": {},
   "duration": 15.168056,
   "end_time": "2022-04-04T09:12:44.330154",
   "environment_variables": {},
   "exception": null,
   "input_path": "__notebook__.ipynb",
   "output_path": "__notebook__.ipynb",
   "parameters": {},
   "start_time": "2022-04-04T09:12:29.162098",
   "version": "2.3.3"
  }
 },
 "nbformat": 4,
 "nbformat_minor": 5
}
